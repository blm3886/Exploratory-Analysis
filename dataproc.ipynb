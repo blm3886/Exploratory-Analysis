{
  "nbformat": 4,
  "nbformat_minor": 0,
  "metadata": {
    "colab": {
      "name": "Untitled0.ipynb",
      "provenance": [],
      "collapsed_sections": [],
      "authorship_tag": "ABX9TyMAM8onERLAsMLJSi3tRxDK",
      "include_colab_link": true
    },
    "kernelspec": {
      "name": "python3",
      "display_name": "Python 3"
    },
    "language_info": {
      "name": "python"
    }
  },
  "cells": [
    {
      "cell_type": "markdown",
      "metadata": {
        "id": "view-in-github",
        "colab_type": "text"
      },
      "source": [
        "<a href=\"https://colab.research.google.com/github/blm3886/Exploratory-Analysis/blob/main/dataproc.ipynb\" target=\"_parent\"><img src=\"https://colab.research.google.com/assets/colab-badge.svg\" alt=\"Open In Colab\"/></a>"
      ]
    },
    {
      "cell_type": "code",
      "execution_count": null,
      "metadata": {
        "id": "4aukd-5e9hzX"
      },
      "outputs": [],
      "source": [
        "import pandas as pd\n",
        "import numpy as np\n",
        "import matplotlib.pyplot as plt\n",
        "import seaborn as sns\n",
        "%matplotlib inline\n"
      ]
    },
    {
      "cell_type": "code",
      "source": [
        "income = pd.read_csv('sample_data/adult_income.csv')"
      ],
      "metadata": {
        "id": "1rBWYFVx9yZQ"
      },
      "execution_count": null,
      "outputs": []
    },
    {
      "cell_type": "code",
      "source": [
        "income.head()\n",
        "income"
      ],
      "metadata": {
        "colab": {
          "base_uri": "https://localhost:8080/",
          "height": 609
        },
        "id": "MV0nTKY1-2ES",
        "outputId": "95380b36-aefa-417d-a4dd-39043d4d4ad9"
      },
      "execution_count": null,
      "outputs": [
        {
          "output_type": "execute_result",
          "data": {
            "text/plain": [
              "       age workclass  fnlwgt     education  education.num      marital.status  \\\n",
              "0       90         ?   77053       HS-grad              9             Widowed   \n",
              "1       82   Private  132870       HS-grad              9             Widowed   \n",
              "2       66         ?  186061  Some-college             10             Widowed   \n",
              "3       54   Private  140359       7th-8th              4            Divorced   \n",
              "4       41   Private  264663  Some-college             10           Separated   \n",
              "...    ...       ...     ...           ...            ...                 ...   \n",
              "32556   22   Private  310152  Some-college             10       Never-married   \n",
              "32557   27   Private  257302    Assoc-acdm             12  Married-civ-spouse   \n",
              "32558   40   Private  154374       HS-grad              9  Married-civ-spouse   \n",
              "32559   58   Private  151910       HS-grad              9             Widowed   \n",
              "32560   22   Private  201490       HS-grad              9       Never-married   \n",
              "\n",
              "              occupation   relationship   race     sex  capital.gain  \\\n",
              "0                      ?  Not-in-family  White  Female             0   \n",
              "1        Exec-managerial  Not-in-family  White  Female             0   \n",
              "2                      ?      Unmarried  Black  Female             0   \n",
              "3      Machine-op-inspct      Unmarried  White  Female             0   \n",
              "4         Prof-specialty      Own-child  White  Female             0   \n",
              "...                  ...            ...    ...     ...           ...   \n",
              "32556    Protective-serv  Not-in-family  White    Male             0   \n",
              "32557       Tech-support           Wife  White  Female             0   \n",
              "32558  Machine-op-inspct        Husband  White    Male             0   \n",
              "32559       Adm-clerical      Unmarried  White  Female             0   \n",
              "32560       Adm-clerical      Own-child  White    Male             0   \n",
              "\n",
              "       capital.loss  hours.per.week native.country income  \n",
              "0              4356              40  United-States  <=50K  \n",
              "1              4356              18  United-States  <=50K  \n",
              "2              4356              40  United-States  <=50K  \n",
              "3              3900              40  United-States  <=50K  \n",
              "4              3900              40  United-States  <=50K  \n",
              "...             ...             ...            ...    ...  \n",
              "32556             0              40  United-States  <=50K  \n",
              "32557             0              38  United-States  <=50K  \n",
              "32558             0              40  United-States   >50K  \n",
              "32559             0              40  United-States  <=50K  \n",
              "32560             0              20  United-States  <=50K  \n",
              "\n",
              "[32561 rows x 15 columns]"
            ],
            "text/html": [
              "\n",
              "  <div id=\"df-b00c3990-b57d-4c76-bc9b-e706d52f1ae4\">\n",
              "    <div class=\"colab-df-container\">\n",
              "      <div>\n",
              "<style scoped>\n",
              "    .dataframe tbody tr th:only-of-type {\n",
              "        vertical-align: middle;\n",
              "    }\n",
              "\n",
              "    .dataframe tbody tr th {\n",
              "        vertical-align: top;\n",
              "    }\n",
              "\n",
              "    .dataframe thead th {\n",
              "        text-align: right;\n",
              "    }\n",
              "</style>\n",
              "<table border=\"1\" class=\"dataframe\">\n",
              "  <thead>\n",
              "    <tr style=\"text-align: right;\">\n",
              "      <th></th>\n",
              "      <th>age</th>\n",
              "      <th>workclass</th>\n",
              "      <th>fnlwgt</th>\n",
              "      <th>education</th>\n",
              "      <th>education.num</th>\n",
              "      <th>marital.status</th>\n",
              "      <th>occupation</th>\n",
              "      <th>relationship</th>\n",
              "      <th>race</th>\n",
              "      <th>sex</th>\n",
              "      <th>capital.gain</th>\n",
              "      <th>capital.loss</th>\n",
              "      <th>hours.per.week</th>\n",
              "      <th>native.country</th>\n",
              "      <th>income</th>\n",
              "    </tr>\n",
              "  </thead>\n",
              "  <tbody>\n",
              "    <tr>\n",
              "      <th>0</th>\n",
              "      <td>90</td>\n",
              "      <td>?</td>\n",
              "      <td>77053</td>\n",
              "      <td>HS-grad</td>\n",
              "      <td>9</td>\n",
              "      <td>Widowed</td>\n",
              "      <td>?</td>\n",
              "      <td>Not-in-family</td>\n",
              "      <td>White</td>\n",
              "      <td>Female</td>\n",
              "      <td>0</td>\n",
              "      <td>4356</td>\n",
              "      <td>40</td>\n",
              "      <td>United-States</td>\n",
              "      <td>&lt;=50K</td>\n",
              "    </tr>\n",
              "    <tr>\n",
              "      <th>1</th>\n",
              "      <td>82</td>\n",
              "      <td>Private</td>\n",
              "      <td>132870</td>\n",
              "      <td>HS-grad</td>\n",
              "      <td>9</td>\n",
              "      <td>Widowed</td>\n",
              "      <td>Exec-managerial</td>\n",
              "      <td>Not-in-family</td>\n",
              "      <td>White</td>\n",
              "      <td>Female</td>\n",
              "      <td>0</td>\n",
              "      <td>4356</td>\n",
              "      <td>18</td>\n",
              "      <td>United-States</td>\n",
              "      <td>&lt;=50K</td>\n",
              "    </tr>\n",
              "    <tr>\n",
              "      <th>2</th>\n",
              "      <td>66</td>\n",
              "      <td>?</td>\n",
              "      <td>186061</td>\n",
              "      <td>Some-college</td>\n",
              "      <td>10</td>\n",
              "      <td>Widowed</td>\n",
              "      <td>?</td>\n",
              "      <td>Unmarried</td>\n",
              "      <td>Black</td>\n",
              "      <td>Female</td>\n",
              "      <td>0</td>\n",
              "      <td>4356</td>\n",
              "      <td>40</td>\n",
              "      <td>United-States</td>\n",
              "      <td>&lt;=50K</td>\n",
              "    </tr>\n",
              "    <tr>\n",
              "      <th>3</th>\n",
              "      <td>54</td>\n",
              "      <td>Private</td>\n",
              "      <td>140359</td>\n",
              "      <td>7th-8th</td>\n",
              "      <td>4</td>\n",
              "      <td>Divorced</td>\n",
              "      <td>Machine-op-inspct</td>\n",
              "      <td>Unmarried</td>\n",
              "      <td>White</td>\n",
              "      <td>Female</td>\n",
              "      <td>0</td>\n",
              "      <td>3900</td>\n",
              "      <td>40</td>\n",
              "      <td>United-States</td>\n",
              "      <td>&lt;=50K</td>\n",
              "    </tr>\n",
              "    <tr>\n",
              "      <th>4</th>\n",
              "      <td>41</td>\n",
              "      <td>Private</td>\n",
              "      <td>264663</td>\n",
              "      <td>Some-college</td>\n",
              "      <td>10</td>\n",
              "      <td>Separated</td>\n",
              "      <td>Prof-specialty</td>\n",
              "      <td>Own-child</td>\n",
              "      <td>White</td>\n",
              "      <td>Female</td>\n",
              "      <td>0</td>\n",
              "      <td>3900</td>\n",
              "      <td>40</td>\n",
              "      <td>United-States</td>\n",
              "      <td>&lt;=50K</td>\n",
              "    </tr>\n",
              "    <tr>\n",
              "      <th>...</th>\n",
              "      <td>...</td>\n",
              "      <td>...</td>\n",
              "      <td>...</td>\n",
              "      <td>...</td>\n",
              "      <td>...</td>\n",
              "      <td>...</td>\n",
              "      <td>...</td>\n",
              "      <td>...</td>\n",
              "      <td>...</td>\n",
              "      <td>...</td>\n",
              "      <td>...</td>\n",
              "      <td>...</td>\n",
              "      <td>...</td>\n",
              "      <td>...</td>\n",
              "      <td>...</td>\n",
              "    </tr>\n",
              "    <tr>\n",
              "      <th>32556</th>\n",
              "      <td>22</td>\n",
              "      <td>Private</td>\n",
              "      <td>310152</td>\n",
              "      <td>Some-college</td>\n",
              "      <td>10</td>\n",
              "      <td>Never-married</td>\n",
              "      <td>Protective-serv</td>\n",
              "      <td>Not-in-family</td>\n",
              "      <td>White</td>\n",
              "      <td>Male</td>\n",
              "      <td>0</td>\n",
              "      <td>0</td>\n",
              "      <td>40</td>\n",
              "      <td>United-States</td>\n",
              "      <td>&lt;=50K</td>\n",
              "    </tr>\n",
              "    <tr>\n",
              "      <th>32557</th>\n",
              "      <td>27</td>\n",
              "      <td>Private</td>\n",
              "      <td>257302</td>\n",
              "      <td>Assoc-acdm</td>\n",
              "      <td>12</td>\n",
              "      <td>Married-civ-spouse</td>\n",
              "      <td>Tech-support</td>\n",
              "      <td>Wife</td>\n",
              "      <td>White</td>\n",
              "      <td>Female</td>\n",
              "      <td>0</td>\n",
              "      <td>0</td>\n",
              "      <td>38</td>\n",
              "      <td>United-States</td>\n",
              "      <td>&lt;=50K</td>\n",
              "    </tr>\n",
              "    <tr>\n",
              "      <th>32558</th>\n",
              "      <td>40</td>\n",
              "      <td>Private</td>\n",
              "      <td>154374</td>\n",
              "      <td>HS-grad</td>\n",
              "      <td>9</td>\n",
              "      <td>Married-civ-spouse</td>\n",
              "      <td>Machine-op-inspct</td>\n",
              "      <td>Husband</td>\n",
              "      <td>White</td>\n",
              "      <td>Male</td>\n",
              "      <td>0</td>\n",
              "      <td>0</td>\n",
              "      <td>40</td>\n",
              "      <td>United-States</td>\n",
              "      <td>&gt;50K</td>\n",
              "    </tr>\n",
              "    <tr>\n",
              "      <th>32559</th>\n",
              "      <td>58</td>\n",
              "      <td>Private</td>\n",
              "      <td>151910</td>\n",
              "      <td>HS-grad</td>\n",
              "      <td>9</td>\n",
              "      <td>Widowed</td>\n",
              "      <td>Adm-clerical</td>\n",
              "      <td>Unmarried</td>\n",
              "      <td>White</td>\n",
              "      <td>Female</td>\n",
              "      <td>0</td>\n",
              "      <td>0</td>\n",
              "      <td>40</td>\n",
              "      <td>United-States</td>\n",
              "      <td>&lt;=50K</td>\n",
              "    </tr>\n",
              "    <tr>\n",
              "      <th>32560</th>\n",
              "      <td>22</td>\n",
              "      <td>Private</td>\n",
              "      <td>201490</td>\n",
              "      <td>HS-grad</td>\n",
              "      <td>9</td>\n",
              "      <td>Never-married</td>\n",
              "      <td>Adm-clerical</td>\n",
              "      <td>Own-child</td>\n",
              "      <td>White</td>\n",
              "      <td>Male</td>\n",
              "      <td>0</td>\n",
              "      <td>0</td>\n",
              "      <td>20</td>\n",
              "      <td>United-States</td>\n",
              "      <td>&lt;=50K</td>\n",
              "    </tr>\n",
              "  </tbody>\n",
              "</table>\n",
              "<p>32561 rows × 15 columns</p>\n",
              "</div>\n",
              "      <button class=\"colab-df-convert\" onclick=\"convertToInteractive('df-b00c3990-b57d-4c76-bc9b-e706d52f1ae4')\"\n",
              "              title=\"Convert this dataframe to an interactive table.\"\n",
              "              style=\"display:none;\">\n",
              "        \n",
              "  <svg xmlns=\"http://www.w3.org/2000/svg\" height=\"24px\"viewBox=\"0 0 24 24\"\n",
              "       width=\"24px\">\n",
              "    <path d=\"M0 0h24v24H0V0z\" fill=\"none\"/>\n",
              "    <path d=\"M18.56 5.44l.94 2.06.94-2.06 2.06-.94-2.06-.94-.94-2.06-.94 2.06-2.06.94zm-11 1L8.5 8.5l.94-2.06 2.06-.94-2.06-.94L8.5 2.5l-.94 2.06-2.06.94zm10 10l.94 2.06.94-2.06 2.06-.94-2.06-.94-.94-2.06-.94 2.06-2.06.94z\"/><path d=\"M17.41 7.96l-1.37-1.37c-.4-.4-.92-.59-1.43-.59-.52 0-1.04.2-1.43.59L10.3 9.45l-7.72 7.72c-.78.78-.78 2.05 0 2.83L4 21.41c.39.39.9.59 1.41.59.51 0 1.02-.2 1.41-.59l7.78-7.78 2.81-2.81c.8-.78.8-2.07 0-2.86zM5.41 20L4 18.59l7.72-7.72 1.47 1.35L5.41 20z\"/>\n",
              "  </svg>\n",
              "      </button>\n",
              "      \n",
              "  <style>\n",
              "    .colab-df-container {\n",
              "      display:flex;\n",
              "      flex-wrap:wrap;\n",
              "      gap: 12px;\n",
              "    }\n",
              "\n",
              "    .colab-df-convert {\n",
              "      background-color: #E8F0FE;\n",
              "      border: none;\n",
              "      border-radius: 50%;\n",
              "      cursor: pointer;\n",
              "      display: none;\n",
              "      fill: #1967D2;\n",
              "      height: 32px;\n",
              "      padding: 0 0 0 0;\n",
              "      width: 32px;\n",
              "    }\n",
              "\n",
              "    .colab-df-convert:hover {\n",
              "      background-color: #E2EBFA;\n",
              "      box-shadow: 0px 1px 2px rgba(60, 64, 67, 0.3), 0px 1px 3px 1px rgba(60, 64, 67, 0.15);\n",
              "      fill: #174EA6;\n",
              "    }\n",
              "\n",
              "    [theme=dark] .colab-df-convert {\n",
              "      background-color: #3B4455;\n",
              "      fill: #D2E3FC;\n",
              "    }\n",
              "\n",
              "    [theme=dark] .colab-df-convert:hover {\n",
              "      background-color: #434B5C;\n",
              "      box-shadow: 0px 1px 3px 1px rgba(0, 0, 0, 0.15);\n",
              "      filter: drop-shadow(0px 1px 2px rgba(0, 0, 0, 0.3));\n",
              "      fill: #FFFFFF;\n",
              "    }\n",
              "  </style>\n",
              "\n",
              "      <script>\n",
              "        const buttonEl =\n",
              "          document.querySelector('#df-b00c3990-b57d-4c76-bc9b-e706d52f1ae4 button.colab-df-convert');\n",
              "        buttonEl.style.display =\n",
              "          google.colab.kernel.accessAllowed ? 'block' : 'none';\n",
              "\n",
              "        async function convertToInteractive(key) {\n",
              "          const element = document.querySelector('#df-b00c3990-b57d-4c76-bc9b-e706d52f1ae4');\n",
              "          const dataTable =\n",
              "            await google.colab.kernel.invokeFunction('convertToInteractive',\n",
              "                                                     [key], {});\n",
              "          if (!dataTable) return;\n",
              "\n",
              "          const docLinkHtml = 'Like what you see? Visit the ' +\n",
              "            '<a target=\"_blank\" href=https://colab.research.google.com/notebooks/data_table.ipynb>data table notebook</a>'\n",
              "            + ' to learn more about interactive tables.';\n",
              "          element.innerHTML = '';\n",
              "          dataTable['output_type'] = 'display_data';\n",
              "          await google.colab.output.renderOutput(dataTable, element);\n",
              "          const docLink = document.createElement('div');\n",
              "          docLink.innerHTML = docLinkHtml;\n",
              "          element.appendChild(docLink);\n",
              "        }\n",
              "      </script>\n",
              "    </div>\n",
              "  </div>\n",
              "  "
            ]
          },
          "metadata": {},
          "execution_count": 344
        }
      ]
    },
    {
      "cell_type": "markdown",
      "source": [
        "Exploratory Data Analysis"
      ],
      "metadata": {
        "id": "fmVWUbbx_wz-"
      }
    },
    {
      "cell_type": "code",
      "source": [
        "data = income.copy() #creating copy"
      ],
      "metadata": {
        "id": "XXJ6i4uk_vSX"
      },
      "execution_count": null,
      "outputs": []
    },
    {
      "cell_type": "markdown",
      "source": [
        "Understanding the data"
      ],
      "metadata": {
        "id": "KCCdBSHJAJ5k"
      }
    },
    {
      "cell_type": "code",
      "source": [
        "data.info()"
      ],
      "metadata": {
        "colab": {
          "base_uri": "https://localhost:8080/"
        },
        "id": "lIYDyBljAMrK",
        "outputId": "80c0f698-ff7e-48b3-c0a5-ff860277c446"
      },
      "execution_count": null,
      "outputs": [
        {
          "output_type": "stream",
          "name": "stdout",
          "text": [
            "<class 'pandas.core.frame.DataFrame'>\n",
            "RangeIndex: 32561 entries, 0 to 32560\n",
            "Data columns (total 15 columns):\n",
            " #   Column          Non-Null Count  Dtype \n",
            "---  ------          --------------  ----- \n",
            " 0   age             32561 non-null  int64 \n",
            " 1   workclass       32561 non-null  object\n",
            " 2   fnlwgt          32561 non-null  int64 \n",
            " 3   education       32561 non-null  object\n",
            " 4   education.num   32561 non-null  int64 \n",
            " 5   marital.status  32561 non-null  object\n",
            " 6   occupation      32561 non-null  object\n",
            " 7   relationship    32561 non-null  object\n",
            " 8   race            32561 non-null  object\n",
            " 9   sex             32561 non-null  object\n",
            " 10  capital.gain    32561 non-null  int64 \n",
            " 11  capital.loss    32561 non-null  int64 \n",
            " 12  hours.per.week  32561 non-null  int64 \n",
            " 13  native.country  32561 non-null  object\n",
            " 14  income          32561 non-null  object\n",
            "dtypes: int64(6), object(9)\n",
            "memory usage: 3.7+ MB\n"
          ]
        }
      ]
    },
    {
      "cell_type": "code",
      "source": [
        "data.isnull().sum() # finidng number of missing values in each parameter\n"
      ],
      "metadata": {
        "colab": {
          "base_uri": "https://localhost:8080/"
        },
        "id": "20pdUzRsAZcg",
        "outputId": "132653b4-09c5-408d-9c7a-d15b832e890c"
      },
      "execution_count": null,
      "outputs": [
        {
          "output_type": "execute_result",
          "data": {
            "text/plain": [
              "age               0\n",
              "workclass         0\n",
              "fnlwgt            0\n",
              "education         0\n",
              "education.num     0\n",
              "marital.status    0\n",
              "occupation        0\n",
              "relationship      0\n",
              "race              0\n",
              "sex               0\n",
              "capital.gain      0\n",
              "capital.loss      0\n",
              "hours.per.week    0\n",
              "native.country    0\n",
              "income            0\n",
              "dtype: int64"
            ]
          },
          "metadata": {},
          "execution_count": 347
        }
      ]
    },
    {
      "cell_type": "code",
      "source": [
        "#summary of numeric variable\n",
        "summary = data.describe()\n",
        "print(summary)"
      ],
      "metadata": {
        "colab": {
          "base_uri": "https://localhost:8080/"
        },
        "id": "4jgGkuK_A8K7",
        "outputId": "0ffb620a-d869-4f0b-f150-78b4ae6ec906"
      },
      "execution_count": null,
      "outputs": [
        {
          "output_type": "stream",
          "name": "stdout",
          "text": [
            "                age        fnlwgt  education.num  capital.gain  capital.loss  \\\n",
            "count  32561.000000  3.256100e+04   32561.000000  32561.000000  32561.000000   \n",
            "mean      38.581647  1.897784e+05      10.080679   1077.648844     87.303830   \n",
            "std       13.640433  1.055500e+05       2.572720   7385.292085    402.960219   \n",
            "min       17.000000  1.228500e+04       1.000000      0.000000      0.000000   \n",
            "25%       28.000000  1.178270e+05       9.000000      0.000000      0.000000   \n",
            "50%       37.000000  1.783560e+05      10.000000      0.000000      0.000000   \n",
            "75%       48.000000  2.370510e+05      12.000000      0.000000      0.000000   \n",
            "max       90.000000  1.484705e+06      16.000000  99999.000000   4356.000000   \n",
            "\n",
            "       hours.per.week  \n",
            "count    32561.000000  \n",
            "mean        40.437456  \n",
            "std         12.347429  \n",
            "min          1.000000  \n",
            "25%         40.000000  \n",
            "50%         40.000000  \n",
            "75%         45.000000  \n",
            "max         99.000000  \n"
          ]
        }
      ]
    },
    {
      "cell_type": "code",
      "source": [
        "#summary of categorical variable\n",
        "summary_cate = data.describe(include=\"O\")\n",
        "print(summary_cate)\n",
        "\n",
        "#frequence of  variable\n",
        "print(\"\\nJob Type\")\n",
        "print(data['workclass'].value_counts()) # missing vaues are represented by ? in the data.\n",
        "print(\"\\n\")\n",
        "\n",
        "print(\"\\nEducation Type\")\n",
        "print(data['education'].value_counts())\n",
        "print(\"\\n\")\n",
        "\n",
        "print(\"\\nMarrital Status\")\n",
        "print(data['marital.status'].value_counts())\n",
        "print(\"\\n\")\n",
        "\n",
        "print(\"\\nRelationsip Status\")\n",
        "print(data['relationship'].value_counts())\n",
        "print(\"\\n\")\n",
        "\n",
        "# replacing ? as NA.\n",
        "data = pd.read_csv('sample_data/adult_income.csv', na_values=[\"?\"])\n",
        "data.head()\n",
        "\n",
        "\n"
      ],
      "metadata": {
        "colab": {
          "base_uri": "https://localhost:8080/",
          "height": 1000
        },
        "id": "_zMPi0xJBx8R",
        "outputId": "ec812a54-78e0-42d2-a44f-b62a676dd69b"
      },
      "execution_count": null,
      "outputs": [
        {
          "output_type": "stream",
          "name": "stdout",
          "text": [
            "       workclass education      marital.status      occupation relationship  \\\n",
            "count      32561     32561               32561           32561        32561   \n",
            "unique         9        16                   7              15            6   \n",
            "top      Private   HS-grad  Married-civ-spouse  Prof-specialty      Husband   \n",
            "freq       22696     10501               14976            4140        13193   \n",
            "\n",
            "         race    sex native.country income  \n",
            "count   32561  32561          32561  32561  \n",
            "unique      5      2             42      2  \n",
            "top     White   Male  United-States  <=50K  \n",
            "freq    27816  21790          29170  24720  \n",
            "\n",
            "Job Type\n",
            "Private             22696\n",
            "Self-emp-not-inc     2541\n",
            "Local-gov            2093\n",
            "?                    1836\n",
            "State-gov            1298\n",
            "Self-emp-inc         1116\n",
            "Federal-gov           960\n",
            "Without-pay            14\n",
            "Never-worked            7\n",
            "Name: workclass, dtype: int64\n",
            "\n",
            "\n",
            "\n",
            "Education Type\n",
            "HS-grad         10501\n",
            "Some-college     7291\n",
            "Bachelors        5355\n",
            "Masters          1723\n",
            "Assoc-voc        1382\n",
            "11th             1175\n",
            "Assoc-acdm       1067\n",
            "10th              933\n",
            "7th-8th           646\n",
            "Prof-school       576\n",
            "9th               514\n",
            "12th              433\n",
            "Doctorate         413\n",
            "5th-6th           333\n",
            "1st-4th           168\n",
            "Preschool          51\n",
            "Name: education, dtype: int64\n",
            "\n",
            "\n",
            "\n",
            "Marrital Status\n",
            "Married-civ-spouse       14976\n",
            "Never-married            10683\n",
            "Divorced                  4443\n",
            "Separated                 1025\n",
            "Widowed                    993\n",
            "Married-spouse-absent      418\n",
            "Married-AF-spouse           23\n",
            "Name: marital.status, dtype: int64\n",
            "\n",
            "\n",
            "\n",
            "Relationsip Status\n",
            "Husband           13193\n",
            "Not-in-family      8305\n",
            "Own-child          5068\n",
            "Unmarried          3446\n",
            "Wife               1568\n",
            "Other-relative      981\n",
            "Name: relationship, dtype: int64\n",
            "\n",
            "\n"
          ]
        },
        {
          "output_type": "execute_result",
          "data": {
            "text/plain": [
              "   age workclass  fnlwgt     education  education.num marital.status  \\\n",
              "0   90       NaN   77053       HS-grad              9        Widowed   \n",
              "1   82   Private  132870       HS-grad              9        Widowed   \n",
              "2   66       NaN  186061  Some-college             10        Widowed   \n",
              "3   54   Private  140359       7th-8th              4       Divorced   \n",
              "4   41   Private  264663  Some-college             10      Separated   \n",
              "\n",
              "          occupation   relationship   race     sex  capital.gain  \\\n",
              "0                NaN  Not-in-family  White  Female             0   \n",
              "1    Exec-managerial  Not-in-family  White  Female             0   \n",
              "2                NaN      Unmarried  Black  Female             0   \n",
              "3  Machine-op-inspct      Unmarried  White  Female             0   \n",
              "4     Prof-specialty      Own-child  White  Female             0   \n",
              "\n",
              "   capital.loss  hours.per.week native.country income  \n",
              "0          4356              40  United-States  <=50K  \n",
              "1          4356              18  United-States  <=50K  \n",
              "2          4356              40  United-States  <=50K  \n",
              "3          3900              40  United-States  <=50K  \n",
              "4          3900              40  United-States  <=50K  "
            ],
            "text/html": [
              "\n",
              "  <div id=\"df-6ff8174a-7e04-4fba-bfba-4f47988a5784\">\n",
              "    <div class=\"colab-df-container\">\n",
              "      <div>\n",
              "<style scoped>\n",
              "    .dataframe tbody tr th:only-of-type {\n",
              "        vertical-align: middle;\n",
              "    }\n",
              "\n",
              "    .dataframe tbody tr th {\n",
              "        vertical-align: top;\n",
              "    }\n",
              "\n",
              "    .dataframe thead th {\n",
              "        text-align: right;\n",
              "    }\n",
              "</style>\n",
              "<table border=\"1\" class=\"dataframe\">\n",
              "  <thead>\n",
              "    <tr style=\"text-align: right;\">\n",
              "      <th></th>\n",
              "      <th>age</th>\n",
              "      <th>workclass</th>\n",
              "      <th>fnlwgt</th>\n",
              "      <th>education</th>\n",
              "      <th>education.num</th>\n",
              "      <th>marital.status</th>\n",
              "      <th>occupation</th>\n",
              "      <th>relationship</th>\n",
              "      <th>race</th>\n",
              "      <th>sex</th>\n",
              "      <th>capital.gain</th>\n",
              "      <th>capital.loss</th>\n",
              "      <th>hours.per.week</th>\n",
              "      <th>native.country</th>\n",
              "      <th>income</th>\n",
              "    </tr>\n",
              "  </thead>\n",
              "  <tbody>\n",
              "    <tr>\n",
              "      <th>0</th>\n",
              "      <td>90</td>\n",
              "      <td>NaN</td>\n",
              "      <td>77053</td>\n",
              "      <td>HS-grad</td>\n",
              "      <td>9</td>\n",
              "      <td>Widowed</td>\n",
              "      <td>NaN</td>\n",
              "      <td>Not-in-family</td>\n",
              "      <td>White</td>\n",
              "      <td>Female</td>\n",
              "      <td>0</td>\n",
              "      <td>4356</td>\n",
              "      <td>40</td>\n",
              "      <td>United-States</td>\n",
              "      <td>&lt;=50K</td>\n",
              "    </tr>\n",
              "    <tr>\n",
              "      <th>1</th>\n",
              "      <td>82</td>\n",
              "      <td>Private</td>\n",
              "      <td>132870</td>\n",
              "      <td>HS-grad</td>\n",
              "      <td>9</td>\n",
              "      <td>Widowed</td>\n",
              "      <td>Exec-managerial</td>\n",
              "      <td>Not-in-family</td>\n",
              "      <td>White</td>\n",
              "      <td>Female</td>\n",
              "      <td>0</td>\n",
              "      <td>4356</td>\n",
              "      <td>18</td>\n",
              "      <td>United-States</td>\n",
              "      <td>&lt;=50K</td>\n",
              "    </tr>\n",
              "    <tr>\n",
              "      <th>2</th>\n",
              "      <td>66</td>\n",
              "      <td>NaN</td>\n",
              "      <td>186061</td>\n",
              "      <td>Some-college</td>\n",
              "      <td>10</td>\n",
              "      <td>Widowed</td>\n",
              "      <td>NaN</td>\n",
              "      <td>Unmarried</td>\n",
              "      <td>Black</td>\n",
              "      <td>Female</td>\n",
              "      <td>0</td>\n",
              "      <td>4356</td>\n",
              "      <td>40</td>\n",
              "      <td>United-States</td>\n",
              "      <td>&lt;=50K</td>\n",
              "    </tr>\n",
              "    <tr>\n",
              "      <th>3</th>\n",
              "      <td>54</td>\n",
              "      <td>Private</td>\n",
              "      <td>140359</td>\n",
              "      <td>7th-8th</td>\n",
              "      <td>4</td>\n",
              "      <td>Divorced</td>\n",
              "      <td>Machine-op-inspct</td>\n",
              "      <td>Unmarried</td>\n",
              "      <td>White</td>\n",
              "      <td>Female</td>\n",
              "      <td>0</td>\n",
              "      <td>3900</td>\n",
              "      <td>40</td>\n",
              "      <td>United-States</td>\n",
              "      <td>&lt;=50K</td>\n",
              "    </tr>\n",
              "    <tr>\n",
              "      <th>4</th>\n",
              "      <td>41</td>\n",
              "      <td>Private</td>\n",
              "      <td>264663</td>\n",
              "      <td>Some-college</td>\n",
              "      <td>10</td>\n",
              "      <td>Separated</td>\n",
              "      <td>Prof-specialty</td>\n",
              "      <td>Own-child</td>\n",
              "      <td>White</td>\n",
              "      <td>Female</td>\n",
              "      <td>0</td>\n",
              "      <td>3900</td>\n",
              "      <td>40</td>\n",
              "      <td>United-States</td>\n",
              "      <td>&lt;=50K</td>\n",
              "    </tr>\n",
              "  </tbody>\n",
              "</table>\n",
              "</div>\n",
              "      <button class=\"colab-df-convert\" onclick=\"convertToInteractive('df-6ff8174a-7e04-4fba-bfba-4f47988a5784')\"\n",
              "              title=\"Convert this dataframe to an interactive table.\"\n",
              "              style=\"display:none;\">\n",
              "        \n",
              "  <svg xmlns=\"http://www.w3.org/2000/svg\" height=\"24px\"viewBox=\"0 0 24 24\"\n",
              "       width=\"24px\">\n",
              "    <path d=\"M0 0h24v24H0V0z\" fill=\"none\"/>\n",
              "    <path d=\"M18.56 5.44l.94 2.06.94-2.06 2.06-.94-2.06-.94-.94-2.06-.94 2.06-2.06.94zm-11 1L8.5 8.5l.94-2.06 2.06-.94-2.06-.94L8.5 2.5l-.94 2.06-2.06.94zm10 10l.94 2.06.94-2.06 2.06-.94-2.06-.94-.94-2.06-.94 2.06-2.06.94z\"/><path d=\"M17.41 7.96l-1.37-1.37c-.4-.4-.92-.59-1.43-.59-.52 0-1.04.2-1.43.59L10.3 9.45l-7.72 7.72c-.78.78-.78 2.05 0 2.83L4 21.41c.39.39.9.59 1.41.59.51 0 1.02-.2 1.41-.59l7.78-7.78 2.81-2.81c.8-.78.8-2.07 0-2.86zM5.41 20L4 18.59l7.72-7.72 1.47 1.35L5.41 20z\"/>\n",
              "  </svg>\n",
              "      </button>\n",
              "      \n",
              "  <style>\n",
              "    .colab-df-container {\n",
              "      display:flex;\n",
              "      flex-wrap:wrap;\n",
              "      gap: 12px;\n",
              "    }\n",
              "\n",
              "    .colab-df-convert {\n",
              "      background-color: #E8F0FE;\n",
              "      border: none;\n",
              "      border-radius: 50%;\n",
              "      cursor: pointer;\n",
              "      display: none;\n",
              "      fill: #1967D2;\n",
              "      height: 32px;\n",
              "      padding: 0 0 0 0;\n",
              "      width: 32px;\n",
              "    }\n",
              "\n",
              "    .colab-df-convert:hover {\n",
              "      background-color: #E2EBFA;\n",
              "      box-shadow: 0px 1px 2px rgba(60, 64, 67, 0.3), 0px 1px 3px 1px rgba(60, 64, 67, 0.15);\n",
              "      fill: #174EA6;\n",
              "    }\n",
              "\n",
              "    [theme=dark] .colab-df-convert {\n",
              "      background-color: #3B4455;\n",
              "      fill: #D2E3FC;\n",
              "    }\n",
              "\n",
              "    [theme=dark] .colab-df-convert:hover {\n",
              "      background-color: #434B5C;\n",
              "      box-shadow: 0px 1px 3px 1px rgba(0, 0, 0, 0.15);\n",
              "      filter: drop-shadow(0px 1px 2px rgba(0, 0, 0, 0.3));\n",
              "      fill: #FFFFFF;\n",
              "    }\n",
              "  </style>\n",
              "\n",
              "      <script>\n",
              "        const buttonEl =\n",
              "          document.querySelector('#df-6ff8174a-7e04-4fba-bfba-4f47988a5784 button.colab-df-convert');\n",
              "        buttonEl.style.display =\n",
              "          google.colab.kernel.accessAllowed ? 'block' : 'none';\n",
              "\n",
              "        async function convertToInteractive(key) {\n",
              "          const element = document.querySelector('#df-6ff8174a-7e04-4fba-bfba-4f47988a5784');\n",
              "          const dataTable =\n",
              "            await google.colab.kernel.invokeFunction('convertToInteractive',\n",
              "                                                     [key], {});\n",
              "          if (!dataTable) return;\n",
              "\n",
              "          const docLinkHtml = 'Like what you see? Visit the ' +\n",
              "            '<a target=\"_blank\" href=https://colab.research.google.com/notebooks/data_table.ipynb>data table notebook</a>'\n",
              "            + ' to learn more about interactive tables.';\n",
              "          element.innerHTML = '';\n",
              "          dataTable['output_type'] = 'display_data';\n",
              "          await google.colab.output.renderOutput(dataTable, element);\n",
              "          const docLink = document.createElement('div');\n",
              "          docLink.innerHTML = docLinkHtml;\n",
              "          element.appendChild(docLink);\n",
              "        }\n",
              "      </script>\n",
              "    </div>\n",
              "  </div>\n",
              "  "
            ]
          },
          "metadata": {},
          "execution_count": 349
        }
      ]
    },
    {
      "cell_type": "markdown",
      "source": [
        "Data Cleaning and preprocessing"
      ],
      "metadata": {
        "id": "qR8EF80WFE86"
      }
    },
    {
      "cell_type": "code",
      "source": [
        "# finding parameters having missing values\n",
        "data.isnull().sum()\n",
        "\n",
        "# identifying number of row with atleast one column having missing value --> 2399 rows having missing values\n",
        "missingValues_data = data[data.isnull().any(axis=1)]\n",
        "missingValues_data\n",
        "\n",
        "\n",
        "# dropping all the rows with missing values \n",
        "data2 = data.dropna(axis =0)\n",
        "data2_copy = data2\n",
        "print(data2_copy)\n",
        "\n",
        "\n",
        "# studing correlation between independent variables\n",
        "correlation = data2.corr()\n",
        "print(correlation)"
      ],
      "metadata": {
        "colab": {
          "base_uri": "https://localhost:8080/"
        },
        "id": "QcA6dSN1FERU",
        "outputId": "df5bb706-caba-4c77-dfbd-c482af8db743"
      },
      "execution_count": null,
      "outputs": [
        {
          "output_type": "stream",
          "name": "stdout",
          "text": [
            "       age workclass  fnlwgt     education  education.num      marital.status  \\\n",
            "1       82   Private  132870       HS-grad              9             Widowed   \n",
            "3       54   Private  140359       7th-8th              4            Divorced   \n",
            "4       41   Private  264663  Some-college             10           Separated   \n",
            "5       34   Private  216864       HS-grad              9            Divorced   \n",
            "6       38   Private  150601          10th              6           Separated   \n",
            "...    ...       ...     ...           ...            ...                 ...   \n",
            "32556   22   Private  310152  Some-college             10       Never-married   \n",
            "32557   27   Private  257302    Assoc-acdm             12  Married-civ-spouse   \n",
            "32558   40   Private  154374       HS-grad              9  Married-civ-spouse   \n",
            "32559   58   Private  151910       HS-grad              9             Widowed   \n",
            "32560   22   Private  201490       HS-grad              9       Never-married   \n",
            "\n",
            "              occupation   relationship   race     sex  capital.gain  \\\n",
            "1        Exec-managerial  Not-in-family  White  Female             0   \n",
            "3      Machine-op-inspct      Unmarried  White  Female             0   \n",
            "4         Prof-specialty      Own-child  White  Female             0   \n",
            "5          Other-service      Unmarried  White  Female             0   \n",
            "6           Adm-clerical      Unmarried  White    Male             0   \n",
            "...                  ...            ...    ...     ...           ...   \n",
            "32556    Protective-serv  Not-in-family  White    Male             0   \n",
            "32557       Tech-support           Wife  White  Female             0   \n",
            "32558  Machine-op-inspct        Husband  White    Male             0   \n",
            "32559       Adm-clerical      Unmarried  White  Female             0   \n",
            "32560       Adm-clerical      Own-child  White    Male             0   \n",
            "\n",
            "       capital.loss  hours.per.week native.country income  \n",
            "1              4356              18  United-States  <=50K  \n",
            "3              3900              40  United-States  <=50K  \n",
            "4              3900              40  United-States  <=50K  \n",
            "5              3770              45  United-States  <=50K  \n",
            "6              3770              40  United-States  <=50K  \n",
            "...             ...             ...            ...    ...  \n",
            "32556             0              40  United-States  <=50K  \n",
            "32557             0              38  United-States  <=50K  \n",
            "32558             0              40  United-States   >50K  \n",
            "32559             0              40  United-States  <=50K  \n",
            "32560             0              20  United-States  <=50K  \n",
            "\n",
            "[30162 rows x 15 columns]\n",
            "                     age    fnlwgt  education.num  capital.gain  capital.loss  \\\n",
            "age             1.000000 -0.076511       0.043526      0.080154      0.060165   \n",
            "fnlwgt         -0.076511  1.000000      -0.044992      0.000422     -0.009750   \n",
            "education.num   0.043526 -0.044992       1.000000      0.124416      0.079646   \n",
            "capital.gain    0.080154  0.000422       0.124416      1.000000     -0.032229   \n",
            "capital.loss    0.060165 -0.009750       0.079646     -0.032229      1.000000   \n",
            "hours.per.week  0.101599 -0.022886       0.152522      0.080432      0.052417   \n",
            "\n",
            "                hours.per.week  \n",
            "age                   0.101599  \n",
            "fnlwgt               -0.022886  \n",
            "education.num         0.152522  \n",
            "capital.gain          0.080432  \n",
            "capital.loss          0.052417  \n",
            "hours.per.week        1.000000  \n"
          ]
        }
      ]
    },
    {
      "cell_type": "markdown",
      "source": [
        "Data Visulization"
      ],
      "metadata": {
        "id": "rQwUHDEXIOVz"
      }
    },
    {
      "cell_type": "code",
      "source": [
        "from pandas._libs import index\n",
        "data2.columns\n",
        "gender = pd.crosstab(index = data2[\"sex\"],\n",
        "                     columns = 'count',\n",
        "                     normalize = True)\n",
        "print(\"\\nGender Porportion:\\n\")\n",
        "print(gender)\n",
        "\n",
        "# checking replationship between Salary and gender --> higher % of men earn more than 50k\n",
        "gender_SalStatus = pd.crosstab(index = data2[\"sex\"],\n",
        "                               columns = data2[\"income\"],\n",
        "                               margins = True,\n",
        "                               normalize = True)\n",
        "\n",
        "print(\"\\nGender Vs Income Range:/n\")\n",
        "print(gender_SalStatus)\n"
      ],
      "metadata": {
        "colab": {
          "base_uri": "https://localhost:8080/"
        },
        "id": "od6ycbQ1INxa",
        "outputId": "c458bbeb-06eb-4e1b-bcb0-a92efede1141"
      },
      "execution_count": null,
      "outputs": [
        {
          "output_type": "stream",
          "name": "stdout",
          "text": [
            "\n",
            "Gender Porportion:\n",
            "\n",
            "col_0      count\n",
            "sex             \n",
            "Female  0.324315\n",
            "Male    0.675685\n",
            "\n",
            "Gender Vs Income Range:/n\n",
            "income     <=50K      >50K       All\n",
            "sex                                 \n",
            "Female  0.287448  0.036868  0.324315\n",
            "Male    0.463630  0.212055  0.675685\n",
            "All     0.751078  0.248922  1.000000\n"
          ]
        }
      ]
    },
    {
      "cell_type": "code",
      "source": [
        "#freqence distribution--> (75 % is <=50)\n",
        "SalStat = sns.countplot(data2[\"income\"]);\n",
        "print(SalStat)"
      ],
      "metadata": {
        "colab": {
          "base_uri": "https://localhost:8080/",
          "height": 353
        },
        "id": "Xdh3rZDuNVtP",
        "outputId": "50840422-84a3-48f8-a389-36cc8d6d6cbc"
      },
      "execution_count": null,
      "outputs": [
        {
          "output_type": "stream",
          "name": "stdout",
          "text": [
            "AxesSubplot(0.125,0.125;0.775x0.755)\n"
          ]
        },
        {
          "output_type": "stream",
          "name": "stderr",
          "text": [
            "/usr/local/lib/python3.7/dist-packages/seaborn/_decorators.py:43: FutureWarning: Pass the following variable as a keyword arg: x. From version 0.12, the only valid positional argument will be `data`, and passing other arguments without an explicit keyword will result in an error or misinterpretation.\n",
            "  FutureWarning\n"
          ]
        },
        {
          "output_type": "display_data",
          "data": {
            "text/plain": [
              "<Figure size 432x288 with 1 Axes>"
            ],
            "image/png": "[encoded data removed]"
          },
          "metadata": {
            "needs_background": "light"
          }
        }
      ]
    },
    {
      "cell_type": "code",
      "source": [
        "#Age frequency in dataset\n",
        "sns.distplot(data2['age'],bins=10,kde=False)"
      ],
      "metadata": {
        "colab": {
          "base_uri": "https://localhost:8080/",
          "height": 353
        },
        "id": "VynVDsZnNfV2",
        "outputId": "1789d7c9-c7c5-42ee-9745-a1c6d390adc2"
      },
      "execution_count": null,
      "outputs": [
        {
          "output_type": "stream",
          "name": "stderr",
          "text": [
            "/usr/local/lib/python3.7/dist-packages/seaborn/distributions.py:2619: FutureWarning: `distplot` is a deprecated function and will be removed in a future version. Please adapt your code to use either `displot` (a figure-level function with similar flexibility) or `histplot` (an axes-level function for histograms).\n",
            "  warnings.warn(msg, FutureWarning)\n"
          ]
        },
        {
          "output_type": "execute_result",
          "data": {
            "text/plain": [
              "<matplotlib.axes._subplots.AxesSubplot at 0x7ff77f7b7350>"
            ]
          },
          "metadata": {},
          "execution_count": 353
        },
        {
          "output_type": "display_data",
          "data": {
            "text/plain": [
              "<Figure size 432x288 with 1 Axes>"
            ],
            "image/png": "[encoded data removed]"
          },
          "metadata": {
            "needs_background": "light"
          }
        }
      ]
    },
    {
      "cell_type": "markdown",
      "source": [
        "Age vs Income "
      ],
      "metadata": {
        "id": "OSGs1XDNPJms"
      }
    },
    {
      "cell_type": "code",
      "source": [
        "# Salary Vs Age\n",
        "sns.boxplot('income','age',data = data2)\n",
        "data2.groupby('income')['age'].median()"
      ],
      "metadata": {
        "colab": {
          "base_uri": "https://localhost:8080/",
          "height": 406
        },
        "id": "_KSyiBZqNzpZ",
        "outputId": "c8689b91-8505-40a0-9b69-b8888b65f59b"
      },
      "execution_count": null,
      "outputs": [
        {
          "output_type": "stream",
          "name": "stderr",
          "text": [
            "/usr/local/lib/python3.7/dist-packages/seaborn/_decorators.py:43: FutureWarning: Pass the following variables as keyword args: x, y. From version 0.12, the only valid positional argument will be `data`, and passing other arguments without an explicit keyword will result in an error or misinterpretation.\n",
            "  FutureWarning\n"
          ]
        },
        {
          "output_type": "execute_result",
          "data": {
            "text/plain": [
              "income\n",
              "<=50K    34.0\n",
              ">50K     43.0\n",
              "Name: age, dtype: float64"
            ]
          },
          "metadata": {},
          "execution_count": 354
        },
        {
          "output_type": "display_data",
          "data": {
            "text/plain": [
              "<Figure size 432x288 with 1 Axes>"
            ],
            "image/png": "[encoded data removed]"
          },
          "metadata": {
            "needs_background": "light"
          }
        }
      ]
    },
    {
      "cell_type": "markdown",
      "source": [
        "Job Type vs Income distribution"
      ],
      "metadata": {
        "id": "6E_W3RlfPRHe"
      }
    },
    {
      "cell_type": "code",
      "source": [
        "sns.catplot(y=\"workclass\", hue=\"sex\", kind=\"count\",\n",
        "            palette=\"pastel\", data=data2)\n",
        "# most of individual in thi dataset belong to private organization\n",
        "\n",
        "JobType_SalStatus = pd.crosstab(index = data2[\"workclass\"],\n",
        "                               columns = data2[\"income\"],\n",
        "                               #margins = True,\n",
        "                               normalize = True)\n",
        "print(\"Stats:\\n\")\n",
        "print(JobType_SalStatus)\n"
      ],
      "metadata": {
        "colab": {
          "base_uri": "https://localhost:8080/",
          "height": 565
        },
        "id": "EYuXj99uO9zP",
        "outputId": "6def0db6-d3a5-4935-eb5d-8563cae0a635"
      },
      "execution_count": null,
      "outputs": [
        {
          "output_type": "stream",
          "name": "stdout",
          "text": [
            "Stats:\n",
            "\n",
            "income               <=50K      >50K\n",
            "workclass                           \n",
            "Federal-gov       0.019163  0.012101\n",
            "Local-gov         0.048339  0.020191\n",
            "Private           0.577216  0.161660\n",
            "Self-emp-inc      0.015715  0.019893\n",
            "Self-emp-not-inc  0.059180  0.023672\n",
            "State-gov         0.030999  0.011405\n",
            "Without-pay       0.000464  0.000000\n"
          ]
        },
        {
          "output_type": "display_data",
          "data": {
            "text/plain": [
              "<Figure size 432.125x360 with 1 Axes>"
            ],
            "image/png": "[encoded data removed]"
          },
          "metadata": {
            "needs_background": "light"
          }
        }
      ]
    },
    {
      "cell_type": "markdown",
      "source": [
        "Education Vs Income distribution\n"
      ],
      "metadata": {
        "id": "zyQZzYgWU8Fl"
      }
    },
    {
      "cell_type": "code",
      "source": [
        "sns.catplot(y=\"education\", hue=\"sex\", kind=\"count\",\n",
        "            palette=\"pastel\", data=data2)\n",
        "# most of individual in thi dataset belong to private organization\n",
        "\n",
        "Education_SalStatus = pd.crosstab(index = data2[\"education\"],\n",
        "                               columns = data2[\"income\"],\n",
        "                               #margins = True,\n",
        "                               normalize = True)\n",
        "print(\"Stats:\\n\")\n",
        "print(Education_SalStatus)\n",
        "\n"
      ],
      "metadata": {
        "colab": {
          "base_uri": "https://localhost:8080/",
          "height": 726
        },
        "id": "i4abr9ThU7fe",
        "outputId": "e6987824-6210-4a08-a574-7c314edd2497"
      },
      "execution_count": null,
      "outputs": [
        {
          "output_type": "stream",
          "name": "stdout",
          "text": [
            "Stats:\n",
            "\n",
            "income           <=50K      >50K\n",
            "education                       \n",
            "10th          0.025230  0.001956\n",
            "11th          0.032790  0.001956\n",
            "12th          0.011538  0.000961\n",
            "1st-4th       0.004807  0.000199\n",
            "5th-6th       0.009151  0.000398\n",
            "7th-8th       0.017307  0.001160\n",
            "9th           0.014256  0.000829\n",
            "Assoc-acdm    0.024932  0.008488\n",
            "Assoc-voc     0.031928  0.011405\n",
            "Bachelors     0.096744  0.070486\n",
            "Doctorate     0.003150  0.009283\n",
            "HS-grad       0.272628  0.053611\n",
            "Masters       0.023506  0.030436\n",
            "Preschool     0.001492  0.000000\n",
            "Prof-school   0.004509  0.013461\n",
            "Some-college  0.177110  0.044294\n"
          ]
        },
        {
          "output_type": "display_data",
          "data": {
            "text/plain": [
              "<Figure size 432.125x360 with 1 Axes>"
            ],
            "image/png": "[encoded data removed]"
          },
          "metadata": {
            "needs_background": "light"
          }
        }
      ]
    },
    {
      "cell_type": "markdown",
      "source": [
        "Logestic Regression"
      ],
      "metadata": {
        "id": "SwK10Q5S_boU"
      }
    },
    {
      "cell_type": "code",
      "source": [
        "from seaborn import regression\n",
        "\n",
        "from sklearn.model_selection import train_test_split\n",
        "from sklearn.linear_model import LogisticRegression\n",
        "from sklearn.metrics import accuracy_score,confusion_matrix\n",
        "\n",
        "#preprocessing \n",
        "# mapping '<=50K' as 0 and \">50K\" as 1\n",
        "data2['income'] = data2['income'].map({'<=50K':0,'>50K':1}) \n",
        "newData = pd.get_dummies(data2,drop_first=True)\n",
        "#storing colnames\n",
        "columns_list = list(newData.columns)\n",
        "features = list(set(columns_list) - set(['income']))\n",
        "\n",
        "# output values\n",
        "y = newData['income'].values\n",
        "# input features \n",
        "x = newData[features].values\n",
        "\n",
        "\n",
        "#splitting dataset into train and test\n",
        "train_x,test_x,train_y,test_y = train_test_split(x,y,test_size=0.3,random_state=0)\n",
        "\n",
        "#intance of Logestic Regression Model \n",
        "logistic = LogisticRegression()\n",
        "\n",
        "\n",
        "# fitting values of x and y \n",
        "logistic.fit(train_x,train_y)\n",
        "logistic.coef_\n",
        "logistic.intercept_\n",
        "\n",
        "## prediction using test set\n",
        "prediction = logistic.predict(test_x)\n",
        "\n",
        "#Evaluating \n",
        "# diagonal --> correctly classified\n",
        "confusion_matrix = confusion_matrix(test_y,prediction)\n",
        "print(\"CONFUSION MATRIX\")\n",
        "print(confusion_matrix)\n",
        "\n",
        "\n",
        "# accurarcy of model \n",
        "accuracyScre = accuracy_score(test_y,prediction)\n",
        "print(\"Accuracy:\\n\")\n",
        "print(accuracyScre)\n",
        "\n",
        "print('No. of Misclassifications: %d' %(test_y != prediction).sum())\n",
        "\n",
        "\n",
        "\n"
      ],
      "metadata": {
        "colab": {
          "base_uri": "https://localhost:8080/"
        },
        "id": "hBPQZnfIV4ve",
        "outputId": "093886d0-4d3d-48a6-9983-8bf5cc2627f5"
      },
      "execution_count": null,
      "outputs": [
        {
          "output_type": "stream",
          "name": "stderr",
          "text": [
            "/usr/local/lib/python3.7/dist-packages/ipykernel_launcher.py:9: SettingWithCopyWarning: \n",
            "A value is trying to be set on a copy of a slice from a DataFrame.\n",
            "Try using .loc[row_indexer,col_indexer] = value instead\n",
            "\n",
            "See the caveats in the documentation: https://pandas.pydata.org/pandas-docs/stable/user_guide/indexing.html#returning-a-view-versus-a-copy\n",
            "  if __name__ == '__main__':\n"
          ]
        },
        {
          "output_type": "stream",
          "name": "stdout",
          "text": [
            "CONFUSION MATRIX\n",
            "[[6535  226]\n",
            " [1665  623]]\n",
            "Accuracy:\n",
            "\n",
            "0.7910266327771024\n",
            "No. of Misclassifications: 1891\n"
          ]
        }
      ]
    },
    {
      "cell_type": "markdown",
      "source": [
        "Imporoving Accuracy by removing insignifant varibales"
      ],
      "metadata": {
        "id": "dhXB8TO7k6RL"
      }
    },
    {
      "cell_type": "code",
      "source": [
        "cols = ['sex','native.country','race','workclass','education']\n",
        "\n",
        "# mapping '<=50K' as 0 and \">50K\" as 1\n",
        "data2_copy['income'] = data2_copy['income'].map({'<=50K':0,'>50K':1})\n",
        "data2_copy.isnull().sum()\n",
        "\n",
        "newData2 = pd.get_dummies(data2_copy,drop_first=True)\n",
        "\n",
        "newData2 = data2.drop(cols,axis=1)\n",
        "newData2.info()\n",
        "\n",
        "newData2 = pd.get_dummies(newData2,drop_first=True)\n",
        "\n",
        "columns_list = list(newData2.columns)\n",
        "\n",
        "features = list(set(columns_list)-set(['income']))\n",
        "\n",
        "Y = newData2['income'].values\n",
        "\n",
        "#fetaures\n",
        "X = newData2[features].values\n",
        "\n",
        "#splitting dataset into train and test\n",
        "train_X,test_X,train_Y,test_Y = train_test_split(X,Y,test_size=0.3,random_state=0)\n",
        "\n",
        "#intance of Logestic Regression Model \n",
        "logistic2 = LogisticRegression()\n",
        "\n",
        "# fitting values of x and y \n",
        "logistic2.fit(train_X,train_Y)\n",
        "logistic2.coef_\n",
        "logistic2.intercept_\n",
        "\n",
        "## prediction using test set\n",
        "prediction2 = logistic2.predict(test_X)\n",
        "\n",
        "\n",
        "\n",
        "#print(confusion_matrix(test_y,prediction2))\n",
        "\n",
        "# accurarcy of model \n",
        "accuracyS = accuracy_score(test_Y,prediction2)\n",
        "print(\"Accuracy:\\n\")\n",
        "print(accuracyS)\n",
        "\n",
        "print('No. of Misclassifications: %d' %(test_Y != prediction2).sum())\n",
        "\n",
        "\n",
        "\n",
        "\n",
        "\n"
      ],
      "metadata": {
        "colab": {
          "base_uri": "https://localhost:8080/"
        },
        "id": "2nhmjPA6k4gb",
        "outputId": "083a09bb-0c31-489b-87f5-594d7097f538"
      },
      "execution_count": null,
      "outputs": [
        {
          "output_type": "stream",
          "name": "stderr",
          "text": [
            "/usr/local/lib/python3.7/dist-packages/ipykernel_launcher.py:4: SettingWithCopyWarning: \n",
            "A value is trying to be set on a copy of a slice from a DataFrame.\n",
            "Try using .loc[row_indexer,col_indexer] = value instead\n",
            "\n",
            "See the caveats in the documentation: https://pandas.pydata.org/pandas-docs/stable/user_guide/indexing.html#returning-a-view-versus-a-copy\n",
            "  after removing the cwd from sys.path.\n"
          ]
        },
        {
          "output_type": "stream",
          "name": "stdout",
          "text": [
            "<class 'pandas.core.frame.DataFrame'>\n",
            "Int64Index: 30162 entries, 1 to 32560\n",
            "Data columns (total 10 columns):\n",
            " #   Column          Non-Null Count  Dtype \n",
            "---  ------          --------------  ----- \n",
            " 0   age             30162 non-null  int64 \n",
            " 1   fnlwgt          30162 non-null  int64 \n",
            " 2   education.num   30162 non-null  int64 \n",
            " 3   marital.status  30162 non-null  object\n",
            " 4   occupation      30162 non-null  object\n",
            " 5   relationship    30162 non-null  object\n",
            " 6   capital.gain    30162 non-null  int64 \n",
            " 7   capital.loss    30162 non-null  int64 \n",
            " 8   hours.per.week  30162 non-null  int64 \n",
            " 9   income          30162 non-null  int64 \n",
            "dtypes: int64(7), object(3)\n",
            "memory usage: 2.5+ MB\n",
            "Accuracy:\n",
            "\n",
            "0.7910266327771024\n",
            "No. of Misclassifications: 1891\n"
          ]
        }
      ]
    },
    {
      "cell_type": "markdown",
      "source": [
        "KNN Model"
      ],
      "metadata": {
        "id": "JTsSk_0Uk6H4"
      }
    },
    {
      "cell_type": "code",
      "source": [
        "from sklearn.neighbors import KNeighborsClassifier\n",
        "import matplotlib.pyplot as plt\n",
        "\n",
        "KNN_classifier = KNeighborsClassifier(n_neighbors= 5)\n",
        "\n",
        "KNN_classifier.fit(train_X,train_y)\n",
        "\n",
        "prediction_knn = KNN_classifier.predict(test_X);\n",
        "\n",
        "print(\"\\nAccuracy(KNN Model):\\n\")\n",
        "print(accuracy_score(test_Y,prediction_knn))\n",
        "\n",
        "print(\"\\nMisclassification: %d\" % (test_y != prediction).sum())\n",
        "\n",
        "Misclassified_Sample = []\n",
        "# calculating the error range for K values\n",
        "for i in range(1,20):\n",
        "  knn = KNeighborsClassifier(n_neighbors=i)\n",
        "  knn.fit(train_X,train_Y)\n",
        "  pred_i = knn.predict(test_X)\n",
        "  Misclassified_Sample.append((test_y != pred_i).sum())\n",
        "\n",
        "print(Misclassified_Sample)"
      ],
      "metadata": {
        "colab": {
          "base_uri": "https://localhost:8080/"
        },
        "id": "SkBQ7hS93iph",
        "outputId": "668fc25f-6b1e-42f1-e37c-d1061b26ec44"
      },
      "execution_count": null,
      "outputs": [
        {
          "output_type": "stream",
          "name": "stdout",
          "text": [
            "\n",
            "Accuracy(KNN Model):\n",
            "\n",
            "0.7703613658967842\n",
            "\n",
            "Misclassification: 1891\n",
            "[2581, 2014, 2281, 1958, 2078, 1938, 2019, 1942, 1988, 1922, 1951, 1901, 1916, 1897, 1912, 1896, 1899, 1916, 1902]\n"
          ]
        }
      ]
    }
  ]
}